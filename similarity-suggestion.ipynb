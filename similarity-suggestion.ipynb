{
 "cells": [
  {
   "cell_type": "code",
   "execution_count": 1,
   "id": "02040526-7491-47a4-8d50-4aeec31e7c6a",
   "metadata": {},
   "outputs": [],
   "source": [
    "import pandas as pd\n",
    "import numpy as np\n",
    "import matplotlib.pyplot as plt\n",
    "import seaborn as sns\n",
    "from datetime import datetime\n"
   ]
  },
  {
   "cell_type": "code",
   "execution_count": 2,
   "id": "5713f4e7-7b4f-4bc3-bf8c-6a993ac925cc",
   "metadata": {},
   "outputs": [
    {
     "data": {
      "text/html": [
       "<div>\n",
       "<style scoped>\n",
       "    .dataframe tbody tr th:only-of-type {\n",
       "        vertical-align: middle;\n",
       "    }\n",
       "\n",
       "    .dataframe tbody tr th {\n",
       "        vertical-align: top;\n",
       "    }\n",
       "\n",
       "    .dataframe thead th {\n",
       "        text-align: right;\n",
       "    }\n",
       "</style>\n",
       "<table border=\"1\" class=\"dataframe\">\n",
       "  <thead>\n",
       "    <tr style=\"text-align: right;\">\n",
       "      <th></th>\n",
       "      <th>ORDERNUMBER</th>\n",
       "      <th>QUANTITYORDERED</th>\n",
       "      <th>PRICEEACH</th>\n",
       "      <th>ORDERLINENUMBER</th>\n",
       "      <th>SALES</th>\n",
       "      <th>ORDERDATE</th>\n",
       "      <th>DAYS_SINCE_LASTORDER</th>\n",
       "      <th>STATUS</th>\n",
       "      <th>PRODUCTLINE</th>\n",
       "      <th>MSRP</th>\n",
       "      <th>PRODUCTCODE</th>\n",
       "      <th>CUSTOMERNAME</th>\n",
       "      <th>PHONE</th>\n",
       "      <th>ADDRESSLINE1</th>\n",
       "      <th>CITY</th>\n",
       "      <th>POSTALCODE</th>\n",
       "      <th>COUNTRY</th>\n",
       "      <th>CONTACTLASTNAME</th>\n",
       "      <th>CONTACTFIRSTNAME</th>\n",
       "      <th>DEALSIZE</th>\n",
       "    </tr>\n",
       "  </thead>\n",
       "  <tbody>\n",
       "    <tr>\n",
       "      <th>0</th>\n",
       "      <td>10107</td>\n",
       "      <td>30</td>\n",
       "      <td>95.70</td>\n",
       "      <td>2</td>\n",
       "      <td>2871.00</td>\n",
       "      <td>24/02/2018</td>\n",
       "      <td>828</td>\n",
       "      <td>Shipped</td>\n",
       "      <td>Motorcycles</td>\n",
       "      <td>95</td>\n",
       "      <td>S10_1678</td>\n",
       "      <td>Land of Toys Inc.</td>\n",
       "      <td>2125557818</td>\n",
       "      <td>897 Long Airport Avenue</td>\n",
       "      <td>NYC</td>\n",
       "      <td>10022</td>\n",
       "      <td>USA</td>\n",
       "      <td>Yu</td>\n",
       "      <td>Kwai</td>\n",
       "      <td>Small</td>\n",
       "    </tr>\n",
       "    <tr>\n",
       "      <th>1</th>\n",
       "      <td>10121</td>\n",
       "      <td>34</td>\n",
       "      <td>81.35</td>\n",
       "      <td>5</td>\n",
       "      <td>2765.90</td>\n",
       "      <td>07/05/2018</td>\n",
       "      <td>757</td>\n",
       "      <td>Shipped</td>\n",
       "      <td>Motorcycles</td>\n",
       "      <td>95</td>\n",
       "      <td>S10_1678</td>\n",
       "      <td>Reims Collectables</td>\n",
       "      <td>26.47.1555</td>\n",
       "      <td>59 rue de l'Abbaye</td>\n",
       "      <td>Reims</td>\n",
       "      <td>51100</td>\n",
       "      <td>France</td>\n",
       "      <td>Henriot</td>\n",
       "      <td>Paul</td>\n",
       "      <td>Small</td>\n",
       "    </tr>\n",
       "    <tr>\n",
       "      <th>2</th>\n",
       "      <td>10134</td>\n",
       "      <td>41</td>\n",
       "      <td>94.74</td>\n",
       "      <td>2</td>\n",
       "      <td>3884.34</td>\n",
       "      <td>01/07/2018</td>\n",
       "      <td>703</td>\n",
       "      <td>Shipped</td>\n",
       "      <td>Motorcycles</td>\n",
       "      <td>95</td>\n",
       "      <td>S10_1678</td>\n",
       "      <td>Lyon Souveniers</td>\n",
       "      <td>+33 1 46 62 7555</td>\n",
       "      <td>27 rue du Colonel Pierre Avia</td>\n",
       "      <td>Paris</td>\n",
       "      <td>75508</td>\n",
       "      <td>France</td>\n",
       "      <td>Da Cunha</td>\n",
       "      <td>Daniel</td>\n",
       "      <td>Medium</td>\n",
       "    </tr>\n",
       "    <tr>\n",
       "      <th>3</th>\n",
       "      <td>10145</td>\n",
       "      <td>45</td>\n",
       "      <td>83.26</td>\n",
       "      <td>6</td>\n",
       "      <td>3746.70</td>\n",
       "      <td>25/08/2018</td>\n",
       "      <td>649</td>\n",
       "      <td>Shipped</td>\n",
       "      <td>Motorcycles</td>\n",
       "      <td>95</td>\n",
       "      <td>S10_1678</td>\n",
       "      <td>Toys4GrownUps.com</td>\n",
       "      <td>6265557265</td>\n",
       "      <td>78934 Hillside Dr.</td>\n",
       "      <td>Pasadena</td>\n",
       "      <td>90003</td>\n",
       "      <td>USA</td>\n",
       "      <td>Young</td>\n",
       "      <td>Julie</td>\n",
       "      <td>Medium</td>\n",
       "    </tr>\n",
       "    <tr>\n",
       "      <th>4</th>\n",
       "      <td>10168</td>\n",
       "      <td>36</td>\n",
       "      <td>96.66</td>\n",
       "      <td>1</td>\n",
       "      <td>3479.76</td>\n",
       "      <td>28/10/2018</td>\n",
       "      <td>586</td>\n",
       "      <td>Shipped</td>\n",
       "      <td>Motorcycles</td>\n",
       "      <td>95</td>\n",
       "      <td>S10_1678</td>\n",
       "      <td>Technics Stores Inc.</td>\n",
       "      <td>6505556809</td>\n",
       "      <td>9408 Furth Circle</td>\n",
       "      <td>Burlingame</td>\n",
       "      <td>94217</td>\n",
       "      <td>USA</td>\n",
       "      <td>Hirano</td>\n",
       "      <td>Juri</td>\n",
       "      <td>Medium</td>\n",
       "    </tr>\n",
       "  </tbody>\n",
       "</table>\n",
       "</div>"
      ],
      "text/plain": [
       "   ORDERNUMBER  QUANTITYORDERED  PRICEEACH  ORDERLINENUMBER    SALES  \\\n",
       "0        10107               30      95.70                2  2871.00   \n",
       "1        10121               34      81.35                5  2765.90   \n",
       "2        10134               41      94.74                2  3884.34   \n",
       "3        10145               45      83.26                6  3746.70   \n",
       "4        10168               36      96.66                1  3479.76   \n",
       "\n",
       "    ORDERDATE  DAYS_SINCE_LASTORDER   STATUS  PRODUCTLINE  MSRP PRODUCTCODE  \\\n",
       "0  24/02/2018                   828  Shipped  Motorcycles    95    S10_1678   \n",
       "1  07/05/2018                   757  Shipped  Motorcycles    95    S10_1678   \n",
       "2  01/07/2018                   703  Shipped  Motorcycles    95    S10_1678   \n",
       "3  25/08/2018                   649  Shipped  Motorcycles    95    S10_1678   \n",
       "4  28/10/2018                   586  Shipped  Motorcycles    95    S10_1678   \n",
       "\n",
       "           CUSTOMERNAME             PHONE                   ADDRESSLINE1  \\\n",
       "0     Land of Toys Inc.        2125557818        897 Long Airport Avenue   \n",
       "1    Reims Collectables        26.47.1555             59 rue de l'Abbaye   \n",
       "2       Lyon Souveniers  +33 1 46 62 7555  27 rue du Colonel Pierre Avia   \n",
       "3     Toys4GrownUps.com        6265557265             78934 Hillside Dr.   \n",
       "4  Technics Stores Inc.        6505556809              9408 Furth Circle   \n",
       "\n",
       "         CITY POSTALCODE COUNTRY CONTACTLASTNAME CONTACTFIRSTNAME DEALSIZE  \n",
       "0         NYC      10022     USA              Yu             Kwai    Small  \n",
       "1       Reims      51100  France         Henriot             Paul    Small  \n",
       "2       Paris      75508  France        Da Cunha           Daniel   Medium  \n",
       "3    Pasadena      90003     USA           Young            Julie   Medium  \n",
       "4  Burlingame      94217     USA          Hirano             Juri   Medium  "
      ]
     },
     "execution_count": 2,
     "metadata": {},
     "output_type": "execute_result"
    }
   ],
   "source": [
    "df = pd.read_csv('data.csv',low_memory=False)\n",
    "df.head()"
   ]
  },
  {
   "cell_type": "code",
   "execution_count": 3,
   "id": "52aae305-5c7c-4098-94d2-a0ed7e309848",
   "metadata": {},
   "outputs": [],
   "source": [
    "df = df.drop(columns=[\"PHONE\",\"ADDRESSLINE1\",\"POSTALCODE\",\"CONTACTLASTNAME\",\"CONTACTFIRSTNAME\"])"
   ]
  },
  {
   "cell_type": "code",
   "execution_count": 4,
   "id": "ce904319-454a-40ba-b989-c15bbc7e39a5",
   "metadata": {},
   "outputs": [
    {
     "data": {
      "text/plain": [
       "1832"
      ]
     },
     "execution_count": 4,
     "metadata": {},
     "output_type": "execute_result"
    }
   ],
   "source": [
    "df['DAYS_SINCE_LASTORDER'].nunique()"
   ]
  },
  {
   "cell_type": "code",
   "execution_count": 5,
   "id": "20deb6f7-d0f4-47cc-97e4-f3c01e20048c",
   "metadata": {},
   "outputs": [
    {
     "name": "stderr",
     "output_type": "stream",
     "text": [
      "C:\\Users\\Serhat Turan\\AppData\\Local\\Temp\\ipykernel_10772\\1385482664.py:4: UserWarning: Parsing dates in %d/%m/%Y format when dayfirst=False (the default) was specified. Pass `dayfirst=True` or specify a format to silence this warning.\n",
      "  df = pd.read_csv(\"data.csv\", parse_dates=[\"ORDERDATE\"])\n"
     ]
    }
   ],
   "source": [
    "import pandas as pd\n",
    "\n",
    "# Veri yüklenirken sütun adlarını senkronize edelim\n",
    "df = pd.read_csv(\"data.csv\", parse_dates=[\"ORDERDATE\"])\n",
    "\n",
    "# Kolaylık için isimleri değiştiriyoruz\n",
    "df = df.rename(columns={\n",
    "    \"CUSTOMERNAME\": \"musteri_id\",\n",
    "    \"ORDERDATE\": \"tarih\",\n",
    "    \"SALES\": \"satis_tutari\"\n",
    "})\n"
   ]
  },
  {
   "cell_type": "code",
   "execution_count": 6,
   "id": "11fababf-10f1-4668-81ff-e5ff0d626e84",
   "metadata": {},
   "outputs": [
    {
     "data": {
      "image/png": "[encoded data removed]",
      "text/plain": [
       "<Figure size 800x400 with 1 Axes>"
      ]
     },
     "metadata": {},
     "output_type": "display_data"
    }
   ],
   "source": [
    "import matplotlib.pyplot as plt\n",
    "import seaborn as sns\n",
    "\n",
    "plt.figure(figsize=(8,4))\n",
    "sns.boxplot(df[\"satis_tutari\"])\n",
    "plt.title(\"Satış Tutarı - Boxplot\")\n",
    "plt.show()\n"
   ]
  },
  {
   "cell_type": "code",
   "execution_count": 7,
   "id": "5197ba42-52a1-4aa4-a552-a0499c6c2702",
   "metadata": {},
   "outputs": [],
   "source": [
    "Q1 = df[\"satis_tutari\"].quantile(0.25)\n",
    "Q3 = df[\"satis_tutari\"].quantile(0.75)\n",
    "IQR = Q3 - Q1\n",
    "alt_sinir = Q1 - 1.5 * IQR\n",
    "ust_sinir = Q3 + 1.5 * IQR\n",
    "\n",
    "df_clean = df[(df[\"satis_tutari\"] >= alt_sinir) & (df[\"satis_tutari\"] <= ust_sinir)]\n"
   ]
  },
  {
   "cell_type": "code",
   "execution_count": 8,
   "id": "a83c8fdc-0f5e-467c-a481-4c83f3c92009",
   "metadata": {},
   "outputs": [],
   "source": [
    "ref_date = df_clean[\"tarih\"].max() + pd.Timedelta(days=1)\n"
   ]
  },
  {
   "cell_type": "code",
   "execution_count": 9,
   "id": "ffa95cc1-fbe5-45a4-9fb9-b8c859170995",
   "metadata": {},
   "outputs": [],
   "source": [
    "rfm = df_clean.groupby(\"musteri_id\").agg({\n",
    "    \"tarih\": lambda x: (ref_date - x.max()).days,  # Recency\n",
    "    \"tarih\": \"count\",                              # Frequency\n",
    "    \"satis_tutari\": \"sum\"                          # Monetary\n",
    "}).rename(columns={\n",
    "    \"tarih\": \"Frequency\",   # overwrite oldu, düzeltelim\n",
    "    \"<lambda_0>\": \"Recency\",\n",
    "    \"satis_tutari\": \"Monetary\"\n",
    "}).reset_index()\n",
    "\n",
    "# Lambda fonksiyonunun adı düzgün gelmediği için manuel olarak Recency hesaplayalım:\n",
    "recency_df = df_clean.groupby(\"musteri_id\").agg({\n",
    "    \"tarih\": lambda x: (ref_date - x.max()).days\n",
    "}).rename(columns={\"tarih\": \"Recency\"})\n",
    "\n",
    "rfm = rfm.merge(recency_df, on=\"musteri_id\")\n"
   ]
  },
  {
   "cell_type": "code",
   "execution_count": 10,
   "id": "3cc510ba-4b17-4570-b312-7b1e19134bbb",
   "metadata": {},
   "outputs": [],
   "source": [
    "rfm = rfm[[\"musteri_id\", \"Recency\", \"Frequency\", \"Monetary\"]]\n"
   ]
  },
  {
   "cell_type": "code",
   "execution_count": 11,
   "id": "1d58e60f-d3db-417b-907a-832d21f27691",
   "metadata": {},
   "outputs": [],
   "source": [
    "rfm[\"R_Score\"] = pd.qcut(rfm[\"Recency\"], 5, labels=[5, 4, 3, 2, 1])\n",
    "rfm[\"F_Score\"] = pd.qcut(rfm[\"Frequency\"].rank(method=\"first\"), 5, labels=[1, 2, 3, 4, 5])\n",
    "rfm[\"M_Score\"] = pd.qcut(rfm[\"Monetary\"], 5, labels=[1, 2, 3, 4, 5])\n",
    "\n",
    "rfm[\"RFM_Score\"] = rfm[\"R_Score\"].astype(str) + rfm[\"F_Score\"].astype(str) + rfm[\"M_Score\"].astype(str)\n"
   ]
  },
  {
   "cell_type": "code",
   "execution_count": 12,
   "id": "c98fbd34-1f6b-4b2f-978c-3ef0615c41f6",
   "metadata": {},
   "outputs": [],
   "source": [
    "def segment(rfm_score):\n",
    "    if rfm_score.startswith(\"5\"):\n",
    "        return \"Yeni ve Değerli\"\n",
    "    elif rfm_score.startswith(\"1\"):\n",
    "        return \"Kaybedilen Müşteri\"\n",
    "    else:\n",
    "        return \"Orta Seviye\"\n",
    "\n",
    "rfm[\"Segment\"] = rfm[\"RFM_Score\"].apply(segment)\n"
   ]
  },
  {
   "cell_type": "code",
   "execution_count": 13,
   "id": "9c014d65-8dda-4cbf-95d0-37c9ecb16787",
   "metadata": {},
   "outputs": [],
   "source": [
    "# Orijinal veriyle başlayalım (df_clean üzerinden)\n",
    "lokasyon = df_clean[[\"musteri_id\", \"CITY\", \"COUNTRY\"]].drop_duplicates()\n",
    "\n",
    "# CITY ve COUNTRY'yi one-hot encode et\n",
    "from sklearn.preprocessing import OneHotEncoder\n",
    "\n",
    "encoder = OneHotEncoder(sparse_output=False\n",
    ")\n",
    "lokasyon_encoded = encoder.fit_transform(lokasyon[[\"CITY\", \"COUNTRY\"]])\n",
    "\n",
    "# Encode edilmiş veriyi DataFrame'e çevir\n",
    "encoded_df = pd.DataFrame(lokasyon_encoded, columns=encoder.get_feature_names_out([\"CITY\", \"COUNTRY\"]))\n",
    "lokasyon_df = pd.concat([lokasyon.reset_index(drop=True), encoded_df], axis=1)\n"
   ]
  },
  {
   "cell_type": "code",
   "execution_count": 14,
   "id": "f746b2b5-ca01-45cf-abdf-1465a080e4e1",
   "metadata": {},
   "outputs": [],
   "source": [
    "from sklearn.decomposition import PCA\n",
    "\n",
    "# Boyutu 2'ye indirelim, bu benzerlik için yeterli\n",
    "pca = PCA(n_components=2)\n",
    "lokasyon_pca = pca.fit_transform(encoded_df)\n",
    "\n",
    "# Yeni sütunları ekle\n",
    "lokasyon_df[\"loc_pca_1\"] = lokasyon_pca[:, 0]\n",
    "lokasyon_df[\"loc_pca_2\"] = lokasyon_pca[:, 1]\n"
   ]
  },
  {
   "cell_type": "code",
   "execution_count": 15,
   "id": "def630a0-ce36-44de-888f-858c195f5809",
   "metadata": {},
   "outputs": [],
   "source": [
    "# RFM analizi sonucu oluşan DataFrame (önceden hazırlanmış olmalı)\n",
    "# rfm: musteri_id, Recency, Frequency, Monetary, RFM_Score, Segment gibi sütunlar içerir\n",
    "\n",
    "# Şehir/ülke PCA dönüşümü sonucu elde ettiğimiz lokasyon_df\n",
    "# lokasyon_df: musteri_id, loc_pca_1, loc_pca_2\n",
    "\n",
    "# Bu iki tabloyu birleştiriyoruz:\n",
    "rfm_merged = pd.merge(\n",
    "    rfm,\n",
    "    lokasyon_df[[\"musteri_id\", \"loc_pca_1\", \"loc_pca_2\"]],\n",
    "    on=\"musteri_id\",\n",
    "    how=\"left\"\n",
    ")\n"
   ]
  },
  {
   "cell_type": "code",
   "execution_count": 16,
   "id": "6f1de506-c783-4def-a077-389b29d19d12",
   "metadata": {},
   "outputs": [],
   "source": [
    "ozellikler = [\"Recency\", \"Frequency\", \"Monetary\", \"loc_pca_1\", \"loc_pca_2\"]\n",
    "X = rfm_merged[ozellikler]\n",
    "\n",
    "from sklearn.preprocessing import StandardScaler\n",
    "scaler = StandardScaler()\n",
    "X_scaled = scaler.fit_transform(X)\n",
    "\n",
    "from sklearn.metrics.pairwise import cosine_similarity\n",
    "similarity_matrix = cosine_similarity(X_scaled)\n",
    "\n",
    "musteri_ids = rfm_merged[\"musteri_id\"].values\n",
    "similarity_df = pd.DataFrame(similarity_matrix, index=musteri_ids, columns=musteri_ids)\n"
   ]
  },
  {
   "cell_type": "code",
   "execution_count": 17,
   "id": "e1069e57-653b-441e-b5ad-8cc0f606f9c5",
   "metadata": {},
   "outputs": [],
   "source": [
    "from sklearn.preprocessing import StandardScaler\n",
    "\n",
    "scaler = StandardScaler()\n",
    "X_scaled = scaler.fit_transform(X)\n"
   ]
  },
  {
   "cell_type": "code",
   "execution_count": 18,
   "id": "55f3c6fc-3f43-4d41-a15f-9d354d8bd7a4",
   "metadata": {},
   "outputs": [],
   "source": [
    "from sklearn.metrics.pairwise import cosine_similarity\n",
    "import numpy as np\n",
    "import pandas as pd\n",
    "\n",
    "similarity_matrix = cosine_similarity(X_scaled)\n",
    "\n",
    "# Müşteri adlarını ekleyelim\n",
    "musteri_ids = rfm_merged[\"musteri_id\"].values\n",
    "similarity_df = pd.DataFrame(similarity_matrix, index=musteri_ids, columns=musteri_ids)\n"
   ]
  },
  {
   "cell_type": "code",
   "execution_count": 19,
   "id": "9b0b001b-741b-4ac1-bd55-d369a16d92da",
   "metadata": {},
   "outputs": [
    {
     "name": "stdout",
     "output_type": "stream",
     "text": [
      "                         AV Stores, Co.  Alpha Cognac  Amica Models & Co.  \\\n",
      "AV Stores, Co.                 1.000000     -0.467319            0.452641   \n",
      "Alpha Cognac                  -0.467319      1.000000           -0.356389   \n",
      "Amica Models & Co.             0.452641     -0.356389            1.000000   \n",
      "Anna's Decorations, Ltd        0.796129     -0.192200            0.162347   \n",
      "Atelier graphique             -0.561090      0.913835           -0.105521   \n",
      "\n",
      "                         Anna's Decorations, Ltd  Atelier graphique  \\\n",
      "AV Stores, Co.                          0.796129          -0.561090   \n",
      "Alpha Cognac                           -0.192200           0.913835   \n",
      "Amica Models & Co.                      0.162347          -0.105521   \n",
      "Anna's Decorations, Ltd                 1.000000          -0.471809   \n",
      "Atelier graphique                      -0.471809           1.000000   \n",
      "\n",
      "                         Australian Collectables, Ltd  \\\n",
      "AV Stores, Co.                               0.279471   \n",
      "Alpha Cognac                                 0.059358   \n",
      "Amica Models & Co.                           0.183314   \n",
      "Anna's Decorations, Ltd                      0.746139   \n",
      "Atelier graphique                           -0.168922   \n",
      "\n",
      "                         Australian Collectors, Co.  \\\n",
      "AV Stores, Co.                             0.987259   \n",
      "Alpha Cognac                              -0.425227   \n",
      "Amica Models & Co.                         0.326340   \n",
      "Anna's Decorations, Ltd                    0.806262   \n",
      "Atelier graphique                         -0.558320   \n",
      "\n",
      "                         Australian Gift Network, Co  Auto Assoc. & Cie.  \\\n",
      "AV Stores, Co.                              0.290674           -0.463956   \n",
      "Alpha Cognac                               -0.083500            0.863485   \n",
      "Amica Models & Co.                          0.573208           -0.057597   \n",
      "Anna's Decorations, Ltd                     0.578581           -0.489549   \n",
      "Atelier graphique                          -0.136124            0.980233   \n",
      "\n",
      "                         Auto Canal Petit  ...  Tokyo Collectables, Ltd  \\\n",
      "AV Stores, Co.                  -0.411315  ...                 0.430145   \n",
      "Alpha Cognac                     0.985019  ...                 0.110008   \n",
      "Amica Models & Co.              -0.436507  ...                -0.018036   \n",
      "Anna's Decorations, Ltd         -0.183286  ...                 0.883203   \n",
      "Atelier graphique                0.880047  ...                -0.212840   \n",
      "\n",
      "                         Toms Spezialitten, Ltd  Toys of Finland, Co.  \\\n",
      "AV Stores, Co.                         0.626779              0.663452   \n",
      "Alpha Cognac                          -0.364363             -0.091851   \n",
      "Amica Models & Co.                     0.958729              0.341492   \n",
      "Anna's Decorations, Ltd                0.414871              0.932185   \n",
      "Atelier graphique                     -0.208945             -0.311719   \n",
      "\n",
      "                         Toys4GrownUps.com  UK Collectables, Ltd.  \\\n",
      "AV Stores, Co.                   -0.619796               0.500675   \n",
      "Alpha Cognac                     -0.190460              -0.060049   \n",
      "Amica Models & Co.               -0.666990               0.222816   \n",
      "Anna's Decorations, Ltd          -0.444441               0.884384   \n",
      "Atelier graphique                -0.242964              -0.308822   \n",
      "\n",
      "                         Vida Sport, Ltd  Vitachrome Inc.  \\\n",
      "AV Stores, Co.                  0.678892        -0.664434   \n",
      "Alpha Cognac                   -0.434451        -0.268377   \n",
      "Amica Models & Co.              0.879447        -0.458943   \n",
      "Anna's Decorations, Ltd         0.220021        -0.698530   \n",
      "Atelier graphique              -0.213975        -0.165420   \n",
      "\n",
      "                         Volvo Model Replicas, Co  \\\n",
      "AV Stores, Co.                           0.409617   \n",
      "Alpha Cognac                            -0.178890   \n",
      "Amica Models & Co.                       0.875791   \n",
      "Anna's Decorations, Ltd                  0.415013   \n",
      "Atelier graphique                       -0.071119   \n",
      "\n",
      "                         West Coast Collectables Co.  giftsbymail.co.uk  \n",
      "AV Stores, Co.                             -0.338578           0.649812  \n",
      "Alpha Cognac                               -0.379003          -0.408809  \n",
      "Amica Models & Co.                          0.305314           0.906461  \n",
      "Anna's Decorations, Ltd                    -0.787287           0.541343  \n",
      "Atelier graphique                          -0.003683          -0.315550  \n",
      "\n",
      "[5 rows x 89 columns]\n"
     ]
    },
    {
     "data": {
      "text/html": [
       "<div>\n",
       "<style scoped>\n",
       "    .dataframe tbody tr th:only-of-type {\n",
       "        vertical-align: middle;\n",
       "    }\n",
       "\n",
       "    .dataframe tbody tr th {\n",
       "        vertical-align: top;\n",
       "    }\n",
       "\n",
       "    .dataframe thead th {\n",
       "        text-align: right;\n",
       "    }\n",
       "</style>\n",
       "<table border=\"1\" class=\"dataframe\">\n",
       "  <thead>\n",
       "    <tr style=\"text-align: right;\">\n",
       "      <th></th>\n",
       "      <th>AV Stores, Co.</th>\n",
       "      <th>Alpha Cognac</th>\n",
       "      <th>Amica Models &amp; Co.</th>\n",
       "      <th>Anna's Decorations, Ltd</th>\n",
       "      <th>Atelier graphique</th>\n",
       "      <th>Australian Collectables, Ltd</th>\n",
       "      <th>Australian Collectors, Co.</th>\n",
       "      <th>Australian Gift Network, Co</th>\n",
       "      <th>Auto Assoc. &amp; Cie.</th>\n",
       "      <th>Auto Canal Petit</th>\n",
       "      <th>...</th>\n",
       "      <th>Tokyo Collectables, Ltd</th>\n",
       "      <th>Toms Spezialitten, Ltd</th>\n",
       "      <th>Toys of Finland, Co.</th>\n",
       "      <th>Toys4GrownUps.com</th>\n",
       "      <th>UK Collectables, Ltd.</th>\n",
       "      <th>Vida Sport, Ltd</th>\n",
       "      <th>Vitachrome Inc.</th>\n",
       "      <th>Volvo Model Replicas, Co</th>\n",
       "      <th>West Coast Collectables Co.</th>\n",
       "      <th>giftsbymail.co.uk</th>\n",
       "    </tr>\n",
       "  </thead>\n",
       "  <tbody>\n",
       "    <tr>\n",
       "      <th>AV Stores, Co.</th>\n",
       "      <td>1.000000</td>\n",
       "      <td>-0.467319</td>\n",
       "      <td>0.452641</td>\n",
       "      <td>0.796129</td>\n",
       "      <td>-0.561090</td>\n",
       "      <td>0.279471</td>\n",
       "      <td>0.987259</td>\n",
       "      <td>0.290674</td>\n",
       "      <td>-0.463956</td>\n",
       "      <td>-0.411315</td>\n",
       "      <td>...</td>\n",
       "      <td>0.430145</td>\n",
       "      <td>0.626779</td>\n",
       "      <td>0.663452</td>\n",
       "      <td>-0.619796</td>\n",
       "      <td>0.500675</td>\n",
       "      <td>0.678892</td>\n",
       "      <td>-0.664434</td>\n",
       "      <td>0.409617</td>\n",
       "      <td>-0.338578</td>\n",
       "      <td>0.649812</td>\n",
       "    </tr>\n",
       "    <tr>\n",
       "      <th>Alpha Cognac</th>\n",
       "      <td>-0.467319</td>\n",
       "      <td>1.000000</td>\n",
       "      <td>-0.356389</td>\n",
       "      <td>-0.192200</td>\n",
       "      <td>0.913835</td>\n",
       "      <td>0.059358</td>\n",
       "      <td>-0.425227</td>\n",
       "      <td>-0.083500</td>\n",
       "      <td>0.863485</td>\n",
       "      <td>0.985019</td>\n",
       "      <td>...</td>\n",
       "      <td>0.110008</td>\n",
       "      <td>-0.364363</td>\n",
       "      <td>-0.091851</td>\n",
       "      <td>-0.190460</td>\n",
       "      <td>-0.060049</td>\n",
       "      <td>-0.434451</td>\n",
       "      <td>-0.268377</td>\n",
       "      <td>-0.178890</td>\n",
       "      <td>-0.379003</td>\n",
       "      <td>-0.408809</td>\n",
       "    </tr>\n",
       "    <tr>\n",
       "      <th>Amica Models &amp; Co.</th>\n",
       "      <td>0.452641</td>\n",
       "      <td>-0.356389</td>\n",
       "      <td>1.000000</td>\n",
       "      <td>0.162347</td>\n",
       "      <td>-0.105521</td>\n",
       "      <td>0.183314</td>\n",
       "      <td>0.326340</td>\n",
       "      <td>0.573208</td>\n",
       "      <td>-0.057597</td>\n",
       "      <td>-0.436507</td>\n",
       "      <td>...</td>\n",
       "      <td>-0.018036</td>\n",
       "      <td>0.958729</td>\n",
       "      <td>0.341492</td>\n",
       "      <td>-0.666990</td>\n",
       "      <td>0.222816</td>\n",
       "      <td>0.879447</td>\n",
       "      <td>-0.458943</td>\n",
       "      <td>0.875791</td>\n",
       "      <td>0.305314</td>\n",
       "      <td>0.906461</td>\n",
       "    </tr>\n",
       "    <tr>\n",
       "      <th>Anna's Decorations, Ltd</th>\n",
       "      <td>0.796129</td>\n",
       "      <td>-0.192200</td>\n",
       "      <td>0.162347</td>\n",
       "      <td>1.000000</td>\n",
       "      <td>-0.471809</td>\n",
       "      <td>0.746139</td>\n",
       "      <td>0.806262</td>\n",
       "      <td>0.578581</td>\n",
       "      <td>-0.489549</td>\n",
       "      <td>-0.183286</td>\n",
       "      <td>...</td>\n",
       "      <td>0.883203</td>\n",
       "      <td>0.414871</td>\n",
       "      <td>0.932185</td>\n",
       "      <td>-0.444441</td>\n",
       "      <td>0.884384</td>\n",
       "      <td>0.220021</td>\n",
       "      <td>-0.698530</td>\n",
       "      <td>0.415013</td>\n",
       "      <td>-0.787287</td>\n",
       "      <td>0.541343</td>\n",
       "    </tr>\n",
       "    <tr>\n",
       "      <th>Atelier graphique</th>\n",
       "      <td>-0.561090</td>\n",
       "      <td>0.913835</td>\n",
       "      <td>-0.105521</td>\n",
       "      <td>-0.471809</td>\n",
       "      <td>1.000000</td>\n",
       "      <td>-0.168922</td>\n",
       "      <td>-0.558320</td>\n",
       "      <td>-0.136124</td>\n",
       "      <td>0.980233</td>\n",
       "      <td>0.880047</td>\n",
       "      <td>...</td>\n",
       "      <td>-0.212840</td>\n",
       "      <td>-0.208945</td>\n",
       "      <td>-0.311719</td>\n",
       "      <td>-0.242964</td>\n",
       "      <td>-0.308822</td>\n",
       "      <td>-0.213975</td>\n",
       "      <td>-0.165420</td>\n",
       "      <td>-0.071119</td>\n",
       "      <td>-0.003683</td>\n",
       "      <td>-0.315550</td>\n",
       "    </tr>\n",
       "  </tbody>\n",
       "</table>\n",
       "<p>5 rows × 89 columns</p>\n",
       "</div>"
      ],
      "text/plain": [
       "                         AV Stores, Co.  Alpha Cognac  Amica Models & Co.  \\\n",
       "AV Stores, Co.                 1.000000     -0.467319            0.452641   \n",
       "Alpha Cognac                  -0.467319      1.000000           -0.356389   \n",
       "Amica Models & Co.             0.452641     -0.356389            1.000000   \n",
       "Anna's Decorations, Ltd        0.796129     -0.192200            0.162347   \n",
       "Atelier graphique             -0.561090      0.913835           -0.105521   \n",
       "\n",
       "                         Anna's Decorations, Ltd  Atelier graphique  \\\n",
       "AV Stores, Co.                          0.796129          -0.561090   \n",
       "Alpha Cognac                           -0.192200           0.913835   \n",
       "Amica Models & Co.                      0.162347          -0.105521   \n",
       "Anna's Decorations, Ltd                 1.000000          -0.471809   \n",
       "Atelier graphique                      -0.471809           1.000000   \n",
       "\n",
       "                         Australian Collectables, Ltd  \\\n",
       "AV Stores, Co.                               0.279471   \n",
       "Alpha Cognac                                 0.059358   \n",
       "Amica Models & Co.                           0.183314   \n",
       "Anna's Decorations, Ltd                      0.746139   \n",
       "Atelier graphique                           -0.168922   \n",
       "\n",
       "                         Australian Collectors, Co.  \\\n",
       "AV Stores, Co.                             0.987259   \n",
       "Alpha Cognac                              -0.425227   \n",
       "Amica Models & Co.                         0.326340   \n",
       "Anna's Decorations, Ltd                    0.806262   \n",
       "Atelier graphique                         -0.558320   \n",
       "\n",
       "                         Australian Gift Network, Co  Auto Assoc. & Cie.  \\\n",
       "AV Stores, Co.                              0.290674           -0.463956   \n",
       "Alpha Cognac                               -0.083500            0.863485   \n",
       "Amica Models & Co.                          0.573208           -0.057597   \n",
       "Anna's Decorations, Ltd                     0.578581           -0.489549   \n",
       "Atelier graphique                          -0.136124            0.980233   \n",
       "\n",
       "                         Auto Canal Petit  ...  Tokyo Collectables, Ltd  \\\n",
       "AV Stores, Co.                  -0.411315  ...                 0.430145   \n",
       "Alpha Cognac                     0.985019  ...                 0.110008   \n",
       "Amica Models & Co.              -0.436507  ...                -0.018036   \n",
       "Anna's Decorations, Ltd         -0.183286  ...                 0.883203   \n",
       "Atelier graphique                0.880047  ...                -0.212840   \n",
       "\n",
       "                         Toms Spezialitten, Ltd  Toys of Finland, Co.  \\\n",
       "AV Stores, Co.                         0.626779              0.663452   \n",
       "Alpha Cognac                          -0.364363             -0.091851   \n",
       "Amica Models & Co.                     0.958729              0.341492   \n",
       "Anna's Decorations, Ltd                0.414871              0.932185   \n",
       "Atelier graphique                     -0.208945             -0.311719   \n",
       "\n",
       "                         Toys4GrownUps.com  UK Collectables, Ltd.  \\\n",
       "AV Stores, Co.                   -0.619796               0.500675   \n",
       "Alpha Cognac                     -0.190460              -0.060049   \n",
       "Amica Models & Co.               -0.666990               0.222816   \n",
       "Anna's Decorations, Ltd          -0.444441               0.884384   \n",
       "Atelier graphique                -0.242964              -0.308822   \n",
       "\n",
       "                         Vida Sport, Ltd  Vitachrome Inc.  \\\n",
       "AV Stores, Co.                  0.678892        -0.664434   \n",
       "Alpha Cognac                   -0.434451        -0.268377   \n",
       "Amica Models & Co.              0.879447        -0.458943   \n",
       "Anna's Decorations, Ltd         0.220021        -0.698530   \n",
       "Atelier graphique              -0.213975        -0.165420   \n",
       "\n",
       "                         Volvo Model Replicas, Co  \\\n",
       "AV Stores, Co.                           0.409617   \n",
       "Alpha Cognac                            -0.178890   \n",
       "Amica Models & Co.                       0.875791   \n",
       "Anna's Decorations, Ltd                  0.415013   \n",
       "Atelier graphique                       -0.071119   \n",
       "\n",
       "                         West Coast Collectables Co.  giftsbymail.co.uk  \n",
       "AV Stores, Co.                             -0.338578           0.649812  \n",
       "Alpha Cognac                               -0.379003          -0.408809  \n",
       "Amica Models & Co.                          0.305314           0.906461  \n",
       "Anna's Decorations, Ltd                    -0.787287           0.541343  \n",
       "Atelier graphique                          -0.003683          -0.315550  \n",
       "\n",
       "[5 rows x 89 columns]"
      ]
     },
     "metadata": {},
     "output_type": "display_data"
    }
   ],
   "source": [
    "print(similarity_df.head())  # veya\n",
    "display(similarity_df.head())  # Jupyter içindeysen daha güzel görünür\n"
   ]
  },
  {
   "cell_type": "code",
   "execution_count": 20,
   "id": "ba8772f6-5ad8-4c81-9354-c03fd7b4c56e",
   "metadata": {},
   "outputs": [
    {
     "name": "stdout",
     "output_type": "stream",
     "text": [
      "                musteri_id  Recency  Frequency   Monetary R_Score F_Score  \\\n",
      "0           AV Stores, Co.      197         51  157807.81       3       5   \n",
      "1             Alpha Cognac       65         19   62156.83       4       2   \n",
      "2       Amica Models & Co.      266         23   69437.88       1       3   \n",
      "3  Anna's Decorations, Ltd       84         44  137181.28       4       5   \n",
      "4        Atelier graphique      189          7   24179.96       3       1   \n",
      "\n",
      "  M_Score RFM_Score             Segment  loc_pca_1  loc_pca_2  \n",
      "0       5       355         Orta Seviye  -0.356142  -0.334931  \n",
      "1       2       422         Orta Seviye  -0.585880   0.746445  \n",
      "2       2       132  Kaybedilen Müşteri  -0.320120  -0.236602  \n",
      "3       5       455         Orta Seviye  -0.354455  -0.322212  \n",
      "4       1       311         Orta Seviye  -0.611751   0.824791  \n"
     ]
    }
   ],
   "source": [
    "print(rfm_merged.head())\n"
   ]
  },
  {
   "cell_type": "code",
   "execution_count": 21,
   "id": "dfb811a2-9d21-4ad0-b4f8-a9af0d756094",
   "metadata": {},
   "outputs": [],
   "source": [
    "from sklearn.cluster import KMeans\n",
    "\n",
    "kmeans = KMeans(n_clusters=5, random_state=42)\n",
    "X = rfm_merged[[\"Recency\", \"Frequency\", \"Monetary\", \"loc_pca_1\", \"loc_pca_2\"]]\n",
    "X_scaled = StandardScaler().fit_transform(X)\n",
    "\n",
    "rfm_merged[\"cluster\"] = kmeans.fit_predict(X_scaled)\n"
   ]
  },
  {
   "cell_type": "code",
   "execution_count": 22,
   "id": "3a808b2d-59b7-4d02-b211-15a326b7347e",
   "metadata": {},
   "outputs": [],
   "source": [
    "from sklearn.preprocessing import StandardScaler\n",
    "\n",
    "ozellikler = [\"Recency\", \"Frequency\", \"Monetary\", \"loc_pca_1\", \"loc_pca_2\"]\n",
    "X = rfm_merged[ozellikler]\n",
    "\n",
    "scaler = StandardScaler()\n",
    "X_scaled = scaler.fit_transform(X)\n"
   ]
  },
  {
   "cell_type": "code",
   "execution_count": 23,
   "id": "c9ec49ff-e523-44f3-b08c-9d898662158c",
   "metadata": {},
   "outputs": [
    {
     "data": {
      "image/png": "[encoded data removed]",
      "text/plain": [
       "<Figure size 1200x500 with 2 Axes>"
      ]
     },
     "metadata": {},
     "output_type": "display_data"
    }
   ],
   "source": [
    "import matplotlib.pyplot as plt\n",
    "from sklearn.cluster import KMeans\n",
    "from sklearn.metrics import silhouette_score\n",
    "\n",
    "wcss = []\n",
    "sil_scores = []\n",
    "K_range = range(2, 10)\n",
    "\n",
    "for k in K_range:\n",
    "    kmeans = KMeans(n_clusters=k, random_state=42)\n",
    "    preds = kmeans.fit_predict(X_scaled)\n",
    "    wcss.append(kmeans.inertia_)\n",
    "    sil_scores.append(silhouette_score(X_scaled, preds))\n",
    "\n",
    "# Elbow grafiği\n",
    "plt.figure(figsize=(12, 5))\n",
    "plt.subplot(1, 2, 1)\n",
    "plt.plot(K_range, wcss, 'bo-')\n",
    "plt.title('Elbow Yöntemi')\n",
    "plt.xlabel('Küme Sayısı')\n",
    "plt.ylabel('WCSS')\n",
    "\n",
    "# Silhouette skoru grafiği\n",
    "plt.subplot(1, 2, 2)\n",
    "plt.plot(K_range, sil_scores, 'go-')\n",
    "plt.title('Silhouette Skoru')\n",
    "plt.xlabel('Küme Sayısı')\n",
    "plt.ylabel('Silhouette')\n",
    "\n",
    "plt.tight_layout()\n",
    "plt.show()\n"
   ]
  },
  {
   "cell_type": "code",
   "execution_count": 24,
   "id": "aa82623c-82ca-49b8-89d0-c10b834d26ea",
   "metadata": {},
   "outputs": [],
   "source": [
    "kmeans = KMeans(n_clusters=4, random_state=42)\n",
    "rfm_merged[\"cluster\"] = kmeans.fit_predict(X_scaled)\n"
   ]
  },
  {
   "cell_type": "code",
   "execution_count": 25,
   "id": "d667920d-ab47-4e5b-8d98-1e4cbec8967d",
   "metadata": {},
   "outputs": [
    {
     "data": {
      "text/html": [
       "<div>\n",
       "<style scoped>\n",
       "    .dataframe tbody tr th:only-of-type {\n",
       "        vertical-align: middle;\n",
       "    }\n",
       "\n",
       "    .dataframe tbody tr th {\n",
       "        vertical-align: top;\n",
       "    }\n",
       "\n",
       "    .dataframe thead th {\n",
       "        text-align: right;\n",
       "    }\n",
       "</style>\n",
       "<table border=\"1\" class=\"dataframe\">\n",
       "  <thead>\n",
       "    <tr style=\"text-align: right;\">\n",
       "      <th></th>\n",
       "      <th>Recency</th>\n",
       "      <th>Frequency</th>\n",
       "      <th>Monetary</th>\n",
       "    </tr>\n",
       "    <tr>\n",
       "      <th>cluster</th>\n",
       "      <th></th>\n",
       "      <th></th>\n",
       "      <th></th>\n",
       "    </tr>\n",
       "  </thead>\n",
       "  <tbody>\n",
       "    <tr>\n",
       "      <th>0</th>\n",
       "      <td>207.903226</td>\n",
       "      <td>23.483871</td>\n",
       "      <td>81110.765161</td>\n",
       "    </tr>\n",
       "    <tr>\n",
       "      <th>1</th>\n",
       "      <td>173.409091</td>\n",
       "      <td>27.568182</td>\n",
       "      <td>92860.153182</td>\n",
       "    </tr>\n",
       "    <tr>\n",
       "      <th>2</th>\n",
       "      <td>166.250000</td>\n",
       "      <td>25.083333</td>\n",
       "      <td>82587.549167</td>\n",
       "    </tr>\n",
       "    <tr>\n",
       "      <th>3</th>\n",
       "      <td>2.000000</td>\n",
       "      <td>213.000000</td>\n",
       "      <td>722988.710000</td>\n",
       "    </tr>\n",
       "  </tbody>\n",
       "</table>\n",
       "</div>"
      ],
      "text/plain": [
       "            Recency   Frequency       Monetary\n",
       "cluster                                       \n",
       "0        207.903226   23.483871   81110.765161\n",
       "1        173.409091   27.568182   92860.153182\n",
       "2        166.250000   25.083333   82587.549167\n",
       "3          2.000000  213.000000  722988.710000"
      ]
     },
     "execution_count": 25,
     "metadata": {},
     "output_type": "execute_result"
    }
   ],
   "source": [
    "# Her kümenin ortalama RFM skorlarına bakalım\n",
    "rfm_merged.groupby(\"cluster\")[[\"Recency\", \"Frequency\", \"Monetary\"]].mean()\n"
   ]
  },
  {
   "cell_type": "code",
   "execution_count": 26,
   "id": "5041b3dd-23f3-4f1b-b458-78351f7760d6",
   "metadata": {},
   "outputs": [
    {
     "data": {
      "text/html": [
       "<div>\n",
       "<style scoped>\n",
       "    .dataframe tbody tr th:only-of-type {\n",
       "        vertical-align: middle;\n",
       "    }\n",
       "\n",
       "    .dataframe tbody tr th {\n",
       "        vertical-align: top;\n",
       "    }\n",
       "\n",
       "    .dataframe thead th {\n",
       "        text-align: right;\n",
       "    }\n",
       "</style>\n",
       "<table border=\"1\" class=\"dataframe\">\n",
       "  <thead>\n",
       "    <tr style=\"text-align: right;\">\n",
       "      <th></th>\n",
       "      <th>loc_pca_1</th>\n",
       "      <th>loc_pca_2</th>\n",
       "    </tr>\n",
       "    <tr>\n",
       "      <th>cluster</th>\n",
       "      <th></th>\n",
       "      <th></th>\n",
       "    </tr>\n",
       "  </thead>\n",
       "  <tbody>\n",
       "    <tr>\n",
       "      <th>0</th>\n",
       "      <td>0.691733</td>\n",
       "      <td>0.078274</td>\n",
       "    </tr>\n",
       "    <tr>\n",
       "      <th>1</th>\n",
       "      <td>-0.328660</td>\n",
       "      <td>-0.265401</td>\n",
       "    </tr>\n",
       "    <tr>\n",
       "      <th>2</th>\n",
       "      <td>-0.603725</td>\n",
       "      <td>0.803269</td>\n",
       "    </tr>\n",
       "    <tr>\n",
       "      <th>3</th>\n",
       "      <td>0.130995</td>\n",
       "      <td>-0.194027</td>\n",
       "    </tr>\n",
       "  </tbody>\n",
       "</table>\n",
       "</div>"
      ],
      "text/plain": [
       "         loc_pca_1  loc_pca_2\n",
       "cluster                      \n",
       "0         0.691733   0.078274\n",
       "1        -0.328660  -0.265401\n",
       "2        -0.603725   0.803269\n",
       "3         0.130995  -0.194027"
      ]
     },
     "execution_count": 26,
     "metadata": {},
     "output_type": "execute_result"
    }
   ],
   "source": [
    "rfm_merged.groupby(\"cluster\")[[\"loc_pca_1\", \"loc_pca_2\"]].mean()\n"
   ]
  },
  {
   "cell_type": "code",
   "execution_count": 27,
   "id": "df81a8da-557f-4a54-9495-a07e47746394",
   "metadata": {},
   "outputs": [
    {
     "data": {
      "text/plain": [
       "cluster\n",
       "0    31\n",
       "1    44\n",
       "2    12\n",
       "3     2\n",
       "Name: count, dtype: int64"
      ]
     },
     "execution_count": 27,
     "metadata": {},
     "output_type": "execute_result"
    }
   ],
   "source": [
    "rfm_merged[\"cluster\"].value_counts().sort_index()\n"
   ]
  },
  {
   "cell_type": "code",
   "execution_count": 28,
   "id": "a0b80faa-a53a-4f8d-85fb-698b515c5518",
   "metadata": {},
   "outputs": [
    {
     "data": {
      "image/png": "[encoded data removed]",
      "text/plain": [
       "<Figure size 800x600 with 1 Axes>"
      ]
     },
     "metadata": {},
     "output_type": "display_data"
    }
   ],
   "source": [
    "from sklearn.decomposition import PCA\n",
    "import seaborn as sns\n",
    "\n",
    "pca_2d = PCA(n_components=2)\n",
    "pca_components = pca_2d.fit_transform(X_scaled)\n",
    "\n",
    "rfm_merged[\"pca1\"] = pca_components[:, 0]\n",
    "rfm_merged[\"pca2\"] = pca_components[:, 1]\n",
    "\n",
    "plt.figure(figsize=(8, 6))\n",
    "sns.scatterplot(data=rfm_merged, x=\"pca1\", y=\"pca2\", hue=\"cluster\", palette=\"tab10\")\n",
    "plt.title(\"Müşteri Kümeleri (PCA ile Görselleştirme)\")\n",
    "plt.show()\n"
   ]
  },
  {
   "cell_type": "code",
   "execution_count": 29,
   "id": "e0f35b21-368a-4ec3-9546-c79283fb2894",
   "metadata": {},
   "outputs": [
    {
     "name": "stdout",
     "output_type": "stream",
     "text": [
      "         Recency  Frequency  Monetary\n",
      "cluster                              \n",
      "0          207.9       23.5   81110.8\n",
      "1          173.4       27.6   92860.2\n",
      "2          166.2       25.1   82587.5\n",
      "3            2.0      213.0  722988.7\n"
     ]
    }
   ],
   "source": [
    "rfm_summary = rfm_merged.groupby(\"cluster\")[[\"Recency\", \"Frequency\", \"Monetary\"]].mean().round(1)\n",
    "print(rfm_summary)\n"
   ]
  },
  {
   "cell_type": "code",
   "execution_count": 30,
   "id": "ede12eaa-cd9f-49ce-a17c-d6c14f26e7c0",
   "metadata": {},
   "outputs": [
    {
     "name": "stdout",
     "output_type": "stream",
     "text": [
      "cluster\n",
      "0    31\n",
      "1    44\n",
      "2    12\n",
      "3     2\n",
      "Name: count, dtype: int64\n"
     ]
    }
   ],
   "source": [
    "cluster_counts = rfm_merged[\"cluster\"].value_counts().sort_index()\n",
    "print(cluster_counts)\n"
   ]
  },
  {
   "cell_type": "code",
   "execution_count": 31,
   "id": "8fb6dcc7-8e22-49ef-a667-ade5cf8b58f5",
   "metadata": {},
   "outputs": [
    {
     "name": "stdout",
     "output_type": "stream",
     "text": [
      "               sum      mean  count\n",
      "cluster                            \n",
      "0        2514433.7   81110.8     31\n",
      "1        4085846.7   92860.2     44\n",
      "2         991050.6   82587.5     12\n",
      "3        1445977.4  722988.7      2\n"
     ]
    }
   ],
   "source": [
    "sales_summary = rfm_merged.groupby(\"cluster\")[\"Monetary\"].agg([\"sum\", \"mean\", \"count\"]).round(1)\n",
    "print(sales_summary)\n"
   ]
  },
  {
   "cell_type": "code",
   "execution_count": 32,
   "id": "4da33547-e996-4389-90bc-8d941826c7ab",
   "metadata": {},
   "outputs": [],
   "source": [
    "segment_mapping = {\n",
    "    0: \"Kaybedilen\",\n",
    "    1: \"Sadık müşteriler\",\n",
    "    2: \"Potansiyel sadık müşteriler\",\n",
    "    3: \"Şampiyon müşteriler\"\n",
    "}\n",
    "rfm_merged[\"segment\"] = rfm_merged[\"cluster\"].map(segment_mapping)\n"
   ]
  },
  {
   "cell_type": "code",
   "execution_count": 33,
   "id": "8f5f3a77-7c1c-40cd-a2d9-21aa8b32ba08",
   "metadata": {},
   "outputs": [
    {
     "name": "stderr",
     "output_type": "stream",
     "text": [
      "C:\\Users\\Serhat Turan\\AppData\\Local\\Temp\\ipykernel_10772\\4273186679.py:5: FutureWarning: \n",
      "\n",
      "The `ci` parameter is deprecated. Use `errorbar=None` for the same effect.\n",
      "\n",
      "  sns.barplot(data=rfm_merged, x=\"segment\", y=\"Monetary\", estimator=\"sum\", ci=None)\n"
     ]
    },
    {
     "data": {
      "image/png": "[encoded data removed]",
      "text/plain": [
       "<Figure size 800x500 with 1 Axes>"
      ]
     },
     "metadata": {},
     "output_type": "display_data"
    }
   ],
   "source": [
    "import seaborn as sns\n",
    "import matplotlib.pyplot as plt\n",
    "\n",
    "plt.figure(figsize=(8, 5))\n",
    "sns.barplot(data=rfm_merged, x=\"segment\", y=\"Monetary\", estimator=\"sum\", ci=None)\n",
    "plt.title(\"Segmentlere Göre Toplam Satış\")\n",
    "plt.ylabel(\"Toplam Harcama\")\n",
    "plt.xticks(rotation=20)\n",
    "plt.tight_layout()\n",
    "plt.show()\n"
   ]
  },
  {
   "cell_type": "code",
   "execution_count": 34,
   "id": "ef490077-e0e7-46b7-bd86-de75ed09a627",
   "metadata": {},
   "outputs": [],
   "source": [
    "pivot_df = df.pivot_table(index=\"musteri_id\", columns=\"PRODUCTCODE\", values=\"QUANTITYORDERED\", aggfunc=\"sum\")\n",
    "pivot_df = pivot_df.fillna(0)\n"
   ]
  },
  {
   "cell_type": "code",
   "execution_count": 35,
   "id": "2ab28b99-1b7c-4a4f-93b5-fb73efa44ccd",
   "metadata": {},
   "outputs": [
    {
     "name": "stdout",
     "output_type": "stream",
     "text": [
      "['ORDERNUMBER', 'QUANTITYORDERED', 'PRICEEACH', 'ORDERLINENUMBER', 'satis_tutari', 'tarih', 'DAYS_SINCE_LASTORDER', 'STATUS', 'PRODUCTLINE', 'MSRP', 'PRODUCTCODE', 'musteri_id', 'PHONE', 'ADDRESSLINE1', 'CITY', 'POSTALCODE', 'COUNTRY', 'CONTACTLASTNAME', 'CONTACTFIRSTNAME', 'DEALSIZE']\n"
     ]
    }
   ],
   "source": [
    "print(df.columns.tolist())\n",
    "\n"
   ]
  },
  {
   "cell_type": "code",
   "execution_count": 36,
   "id": "c43ba743-b1ec-4109-882f-3d139fc85293",
   "metadata": {},
   "outputs": [],
   "source": [
    "def en_benzer_musteriler(musteri_id, similarity_df, N=5):\n",
    "    benzerlikler = similarity_df.loc[musteri_id].sort_values(ascending=False)\n",
    "    benzerlikler = benzerlikler.drop(musteri_id)  # Kendini çıkar\n",
    "    return benzerlikler.head(N).index.tolist()\n"
   ]
  },
  {
   "cell_type": "code",
   "execution_count": 37,
   "id": "590d98a0-ba59-49a4-9950-545e565bbfad",
   "metadata": {},
   "outputs": [],
   "source": [
    "def oneriler_getir(musteri_id, pivot_df, similarity_df, top_n=5):\n",
    "    benzerler = en_benzer_musteriler(musteri_id, similarity_df, N=5)\n",
    "    \n",
    "    musteri_urunler = pivot_df.loc[musteri_id]\n",
    "    musteri_aldi = musteri_urunler[musteri_urunler > 0].index.tolist()\n",
    "    \n",
    "    # Benzerlerin aldığı ürünleri topla\n",
    "    urun_skorlari = pivot_df.loc[benzerler].sum()\n",
    "    \n",
    "    # Müşterinin zaten aldığı ürünleri çıkar\n",
    "    urun_skorlari = urun_skorlari.drop(labels=musteri_aldi, errors=\"ignore\")\n",
    "    \n",
    "    # En çok alınan ürünleri öner\n",
    "    oneriler = urun_skorlari.sort_values(ascending=False).head(top_n)\n",
    "    return oneriler\n"
   ]
  },
  {
   "cell_type": "code",
   "execution_count": 38,
   "id": "50b8c990-47c1-4ec2-8a24-e0c08937693f",
   "metadata": {},
   "outputs": [
    {
     "name": "stdout",
     "output_type": "stream",
     "text": [
      "AV Stores, Co. için öneriler:\n",
      "PRODUCTCODE\n",
      "S18_2432    181.0\n",
      "S18_1097    171.0\n",
      "S12_1666    165.0\n",
      "S10_4962    163.0\n",
      "S50_1341    163.0\n",
      "dtype: float64\n"
     ]
    }
   ],
   "source": [
    "musteri = rfm_merged[\"musteri_id\"].iloc[0]  # İlk müşteri\n",
    "print(f\"{musteri} için öneriler:\")\n",
    "print(oneriler_getir(musteri, pivot_df, similarity_df))\n"
   ]
  },
  {
   "cell_type": "code",
   "execution_count": 39,
   "id": "26b47ff4-dc33-43b9-a966-5da05fd74a76",
   "metadata": {},
   "outputs": [
    {
     "name": "stdout",
     "output_type": "stream",
     "text": [
      "  PRODUCTCODE   PRICEEACH CATEGORY\n",
      "0    S10_1678  100.510833        S\n",
      "1    S10_1949  199.523846        S\n",
      "2    S10_2016  114.571667        S\n",
      "3    S10_4698  187.118750        S\n",
      "4    S10_4757  118.293200        S\n"
     ]
    }
   ],
   "source": [
    "# Ürün başına ortalama fiyat çıkar (ürün özelliklerinden biri)\n",
    "products_df = df.groupby(\"PRODUCTCODE\")[[\"PRICEEACH\"]].mean().reset_index()\n",
    "\n",
    "# Örneğin dummy kategori ekleyelim (ürün kodundan biraz çekip)\n",
    "products_df[\"CATEGORY\"] = products_df[\"PRODUCTCODE\"].str[0]  # ürün kodunun ilk harfi kategori gibi olsun\n",
    "\n",
    "print(products_df.head())\n"
   ]
  },
  {
   "cell_type": "code",
   "execution_count": 40,
   "id": "5b3ab7f3-7448-4883-9f45-25a09c3b744d",
   "metadata": {},
   "outputs": [],
   "source": [
    "from sklearn.preprocessing import OneHotEncoder, StandardScaler\n",
    "\n",
    "# Örnek: kategori sütununa one-hot encoding uygulayalım\n",
    "encoder = OneHotEncoder(sparse_output=False)\n",
    "category_encoded = encoder.fit_transform(products_df[[\"CATEGORY\"]])\n",
    "\n",
    "# Fiyatı normalize edelim\n",
    "scaler = StandardScaler()\n",
    "price_scaled = scaler.fit_transform(products_df[[\"PRICEEACH\"]])\n",
    "\n",
    "# Özellikleri yan yana ekleyelim\n",
    "import numpy as np\n",
    "product_features = np.hstack([category_encoded, price_scaled])\n"
   ]
  },
  {
   "cell_type": "code",
   "execution_count": 41,
   "id": "c41b203a-47dc-4f1b-b283-6e8c7813d159",
   "metadata": {},
   "outputs": [],
   "source": [
    "from sklearn.metrics.pairwise import cosine_similarity\n",
    "\n",
    "product_similarity = cosine_similarity(product_features)\n"
   ]
  },
  {
   "cell_type": "code",
   "execution_count": 42,
   "id": "e7e0d1d3-4360-4461-830f-5e21e87815b7",
   "metadata": {},
   "outputs": [],
   "source": [
    "def content_based_recommendations(customer_id, purchase_df, product_similarity, products_df, top_n=5):\n",
    "    # Müşterinin aldığı ürünler\n",
    "    bought_products = purchase_df[purchase_df[\"musteri_id\"] == customer_id][\"PRODUCTCODE\"].unique()\n",
    "    \n",
    "    # Ürünlerin indekslerini al\n",
    "    product_indices = products_df[products_df[\"PRODUCTCODE\"].isin(bought_products)].index\n",
    "    \n",
    "    # Benzerlik skorlarını topla\n",
    "    sim_scores = product_similarity[product_indices].sum(axis=0)\n",
    "    \n",
    "    # Aldığı ürünleri çıkar\n",
    "    sim_scores[product_indices] = 0\n",
    "    \n",
    "    # En yüksek skorları al\n",
    "    recommended_indices = sim_scores.argsort()[::-1][:top_n]\n",
    "    \n",
    "    return products_df.iloc[recommended_indices][[\"PRODUCTCODE\", \"CATEGORY\", \"PRICEEACH\"]]\n"
   ]
  },
  {
   "cell_type": "code",
   "execution_count": 43,
   "id": "00d95384-dab0-4604-b682-36977c3a6bcd",
   "metadata": {},
   "outputs": [
    {
     "name": "stdout",
     "output_type": "stream",
     "text": [
      "    PRODUCTCODE CATEGORY  PRICEEACH\n",
      "108    S72_3212        S  66.765769\n",
      "107    S72_1253        S  56.328077\n",
      "106   S700_4002        S  74.443704\n",
      "105   S700_3962        S  95.769231\n",
      "104   S700_3505        S  97.026154\n"
     ]
    }
   ],
   "source": [
    "customer = \"MüşteriID\"  # Örnek müşteri id\n",
    "print(content_based_recommendations(customer, df, product_similarity, products_df))\n"
   ]
  },
  {
   "cell_type": "code",
   "execution_count": 44,
   "id": "f63436cc-d6e2-4a0e-8ff5-dd987551c30a",
   "metadata": {},
   "outputs": [],
   "source": [
    "import pandas as pd\n",
    "from sklearn.preprocessing import StandardScaler, OneHotEncoder\n",
    "from sklearn.metrics.pairwise import cosine_similarity\n",
    "\n",
    "# 1. Ürün bazında gruplayarak ortalama metrikleri çıkar\n",
    "product_features = df.groupby(['PRODUCTCODE', 'PRODUCTLINE']).agg({\n",
    "    'satis_tutari': 'sum',\n",
    "    'QUANTITYORDERED': 'sum',\n",
    "    'PRICEEACH': 'mean'\n",
    "}).reset_index()\n",
    "\n",
    "# 2. One-hot encoding (PRODUCTLINE)\n",
    "ohe = OneHotEncoder(sparse_output=False)\n",
    "productline_encoded = ohe.fit_transform(product_features[['PRODUCTLINE']])\n",
    "productline_df = pd.DataFrame(productline_encoded, columns=ohe.get_feature_names_out(['PRODUCTLINE']))\n",
    "\n",
    "# 3. Sayısal verileri standardize et\n",
    "scaler = StandardScaler()\n",
    "scaled_features = scaler.fit_transform(product_features[['satis_tutari', 'QUANTITYORDERED', 'PRICEEACH']])\n",
    "scaled_df = pd.DataFrame(scaled_features, columns=['satis_tutari', 'QUANTITYORDERED', 'PRICEEACH'])\n",
    "\n",
    "# 4. Tüm özellikleri birleştir\n",
    "product_vectors = pd.concat([product_features[['PRODUCTCODE']], scaled_df, productline_df], axis=1)\n",
    "product_vectors.set_index('PRODUCTCODE', inplace=True)\n"
   ]
  },
  {
   "cell_type": "code",
   "execution_count": 45,
   "id": "5c4609de-5e76-4579-941c-623de0a541e7",
   "metadata": {},
   "outputs": [
    {
     "name": "stdout",
     "output_type": "stream",
     "text": [
      "Index(['ORDERNUMBER', 'QUANTITYORDERED', 'PRICEEACH', 'ORDERLINENUMBER',\n",
      "       'satis_tutari', 'tarih', 'DAYS_SINCE_LASTORDER', 'STATUS',\n",
      "       'PRODUCTLINE', 'MSRP', 'PRODUCTCODE', 'musteri_id', 'PHONE',\n",
      "       'ADDRESSLINE1', 'CITY', 'POSTALCODE', 'COUNTRY', 'CONTACTLASTNAME',\n",
      "       'CONTACTFIRSTNAME', 'DEALSIZE'],\n",
      "      dtype='object')\n"
     ]
    }
   ],
   "source": [
    "print(df.columns)"
   ]
  },
  {
   "cell_type": "code",
   "execution_count": 46,
   "id": "421e5f04-5c21-4834-aec5-c80fc83c26c5",
   "metadata": {},
   "outputs": [],
   "source": [
    "def öner_benzer_ürünler(product_code, top_n=5):\n",
    "    if product_code not in product_vectors.index:\n",
    "        return f\"{product_code} ürün kodu bulunamadı.\"\n",
    "\n",
    "    sim_matrix = cosine_similarity(product_vectors)\n",
    "    sim_df = pd.DataFrame(sim_matrix, index=product_vectors.index, columns=product_vectors.index)\n",
    "\n",
    "    benzer_ürünler = sim_df[product_code].sort_values(ascending=False)[1:top_n+1]\n",
    "    return benzer_ürünler\n"
   ]
  },
  {
   "cell_type": "code",
   "execution_count": 47,
   "id": "b366ba85-5a52-419a-b713-69f9805a9648",
   "metadata": {},
   "outputs": [
    {
     "data": {
      "text/plain": [
       "PRODUCTCODE\n",
       "S12_3891    0.985096\n",
       "S12_1108    0.975895\n",
       "S18_2238    0.962398\n",
       "S18_4027    0.960231\n",
       "S12_3148    0.951356\n",
       "Name: S10_1949, dtype: float64"
      ]
     },
     "execution_count": 47,
     "metadata": {},
     "output_type": "execute_result"
    }
   ],
   "source": [
    "öner_benzer_ürünler('S10_1949', top_n=5)\n"
   ]
  },
  {
   "cell_type": "code",
   "execution_count": 50,
   "id": "c5ab0793-e525-4a6c-843b-76a0cfff120f",
   "metadata": {},
   "outputs": [
    {
     "name": "stdout",
     "output_type": "stream",
     "text": [
      "Silhouette Skoru (k=3): 0.4984\n"
     ]
    }
   ],
   "source": [
    "from sklearn.metrics import silhouette_score\n",
    "from sklearn.cluster import KMeans\n",
    "\n",
    "# Örnek olarak k=3 için\n",
    "kmeans = KMeans(n_clusters=4, random_state=42)\n",
    "labels = kmeans.fit_predict(X_scaled)\n",
    "\n",
    "sil_score = silhouette_score(X_scaled, labels)\n",
    "\n",
    "print(f\"Silhouette Skoru (k=3): {sil_score:.4f}\")\n"
   ]
  },
  {
   "cell_type": "code",
   "execution_count": null,
   "id": "6c6af816-a8d7-4dbf-a451-cb0c9bbaa7b6",
   "metadata": {},
   "outputs": [],
   "source": []
  }
 ],
 "metadata": {
  "kernelspec": {
   "display_name": "Python 3 (ipykernel)",
   "language": "python",
   "name": "python3"
  },
  "language_info": {
   "codemirror_mode": {
    "name": "ipython",
    "version": 3
   },
   "file_extension": ".py",
   "mimetype": "text/x-python",
   "name": "python",
   "nbconvert_exporter": "python",
   "pygments_lexer": "ipython3",
   "version": "3.13.1"
  }
 },
 "nbformat": 4,
 "nbformat_minor": 5
}
